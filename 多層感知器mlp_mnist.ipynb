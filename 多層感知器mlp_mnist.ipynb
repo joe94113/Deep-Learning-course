{
  "nbformat": 4,
  "nbformat_minor": 0,
  "metadata": {
    "colab": {
      "name": "多層感知器mlp_mnist.ipynb",
      "provenance": [],
      "collapsed_sections": [],
      "authorship_tag": "ABX9TyPCMpYQ3ZrnFMeYaEQtWwPX",
      "include_colab_link": true
    },
    "kernelspec": {
      "name": "python3",
      "display_name": "Python 3"
    }
  },
  "cells": [
    {
      "cell_type": "markdown",
      "metadata": {
        "id": "view-in-github",
        "colab_type": "text"
      },
      "source": [
        "<a href=\"https://colab.research.google.com/github/joe94113/Deep-Learning-course/blob/main/%E5%A4%9A%E5%B1%A4%E6%84%9F%E7%9F%A5%E5%99%A8mlp_mnist.ipynb\" target=\"_parent\"><img src=\"https://colab.research.google.com/assets/colab-badge.svg\" alt=\"Open In Colab\"/></a>"
      ]
    },
    {
      "cell_type": "code",
      "metadata": {
        "id": "MnAsUGUd0MoC",
        "colab": {
          "base_uri": "https://localhost:8080/"
        },
        "outputId": "a17ce1ea-b0e3-4869-fc31-c0dddffc594d"
      },
      "source": [
        "from keras.datasets.mnist import load_data\n",
        "# ((訓練圖片, 訓練圖片答案),(測試圖片, 測試圖片答案))\n",
        "(x_train, y_train), (x_test, y_test) = load_data()"
      ],
      "execution_count": null,
      "outputs": [
        {
          "output_type": "stream",
          "text": [
            "Downloading data from https://storage.googleapis.com/tensorflow/tf-keras-datasets/mnist.npz\n",
            "11493376/11490434 [==============================] - 0s 0us/step\n"
          ],
          "name": "stdout"
        }
      ]
    },
    {
      "cell_type": "code",
      "metadata": {
        "colab": {
          "base_uri": "https://localhost:8080/"
        },
        "id": "CELDvJED2z50",
        "outputId": "2810ac91-9572-413f-d599-9bd3cf65a85c"
      },
      "source": [
        "print(\"訓練資料維度\", x_train.shape)\n",
        "print(\"測試資料維度\", x_test.shape)"
      ],
      "execution_count": null,
      "outputs": [
        {
          "output_type": "stream",
          "text": [
            "訓練資料維度 (60000, 28, 28)\n",
            "測試資料維度 (10000, 28, 28)\n"
          ],
          "name": "stdout"
        }
      ]
    },
    {
      "cell_type": "code",
      "metadata": {
        "colab": {
          "base_uri": "https://localhost:8080/",
          "height": 283
        },
        "id": "pVcPZqkL3J30",
        "outputId": "7c9bcf92-b57d-4ba8-cd31-2108e4ba6c7e"
      },
      "source": [
        "import matplotlib.pyplot as plt\n",
        "%matplotlib inline\n",
        "import random\n",
        "c = random.randint(0, 59999)\n",
        "print(\"正確答案:\", y_train[c])\n",
        "plt.axis(\"off\") # 不顯示X, Y軸\n",
        "plt.imshow(x_train[c], cmap=\"gray\")"
      ],
      "execution_count": null,
      "outputs": [
        {
          "output_type": "stream",
          "text": [
            "正確答案: 1\n"
          ],
          "name": "stdout"
        },
        {
          "output_type": "execute_result",
          "data": {
            "text/plain": [
              "<matplotlib.image.AxesImage at 0x7f9c6f35a9e8>"
            ]
          },
          "metadata": {
            "tags": []
          },
          "execution_count": 4
        },
        {
          "output_type": "display_data",
          "data": {
            "image/png": "[encoded data removed]",
            "text/plain": [
              "<Figure size 432x288 with 1 Axes>"
            ]
          },
          "metadata": {
            "tags": [],
            "needs_background": "light"
          }
        }
      ]
    },
    {
      "cell_type": "code",
      "metadata": {
        "id": "w0_enxK_5EHr"
      },
      "source": [
        "# Step 1.1處理圖片 (reshape-> / 255) 變成一維\n",
        "x_train_shape = x_train.reshape(60000, 784) / 255 # 改變陣列形狀的函式 reshape()\n",
        "x_test_shape = x_test.reshape(10000, 784) / 255\n",
        "x_train_shape[0]"
      ],
      "execution_count": null,
      "outputs": []
    },
    {
      "cell_type": "code",
      "metadata": {
        "colab": {
          "base_uri": "https://localhost:8080/"
        },
        "id": "xf9IbQ3Y7zfD",
        "outputId": "197de025-f9a3-44a9-cab9-34d3be5cf9b7"
      },
      "source": [
        "# Step 1.2處理答案 One-Hot Encoding\n",
        "from keras.utils.np_utils import to_categorical\n",
        "y_train_cat = to_categorical(y_train)\n",
        "y_test_cat = to_categorical(y_test)\n",
        "print(\"處理前:\", y_train[0])\n",
        "print(\"處理後:\", y_train_cat[0])"
      ],
      "execution_count": null,
      "outputs": [
        {
          "output_type": "stream",
          "text": [
            "處理前: 5\n",
            "處理後: [0. 0. 0. 0. 0. 1. 0. 0. 0. 0.]\n"
          ],
          "name": "stdout"
        }
      ]
    },
    {
      "cell_type": "markdown",
      "metadata": {
        "id": "WnG_-8R3-5y2"
      },
      "source": [
        "輸出層如果只有一個函數，可以選用sigmoid函數\n",
        "\n",
        "輸出層，如果有兩個以上輸出神經，請選用softmax函數\n",
        "\n",
        "如果是中間層，只有一種選擇relu函數，原因是避免梯度消失，"
      ]
    },
    {
      "cell_type": "code",
      "metadata": {
        "colab": {
          "base_uri": "https://localhost:8080/"
        },
        "id": "Ps5nukTj8_7P",
        "outputId": "ef894c0e-32f6-4b58-c85f-568a9a50fae4"
      },
      "source": [
        "# 建立模型\n",
        "from keras.models import Sequential # 序貫模型\n",
        "from keras.layers import Dense # 一層一層\n",
        "model = Sequential()\n",
        "# 中間層:relu\n",
        "# 最後一層:\n",
        "# 一個神經元:sigmoid\n",
        "# 兩個以上:softmax\n",
        "model.add(Dense(128, activation=\"relu\", input_dim=784)) # 128根神經元，使用relu激活函數，第一層784個要帶入，因為她不知道\n",
        "model.add(Dense(10, activation=\"softmax\"))\n",
        "model.summary() # 模型摘要"
      ],
      "execution_count": null,
      "outputs": [
        {
          "output_type": "stream",
          "text": [
            "Model: \"sequential_2\"\n",
            "_________________________________________________________________\n",
            "Layer (type)                 Output Shape              Param #   \n",
            "=================================================================\n",
            "dense_2 (Dense)              (None, 128)               100480    \n",
            "_________________________________________________________________\n",
            "dense_3 (Dense)              (None, 10)                1290      \n",
            "=================================================================\n",
            "Total params: 101,770\n",
            "Trainable params: 101,770\n",
            "Non-trainable params: 0\n",
            "_________________________________________________________________\n"
          ],
          "name": "stdout"
        }
      ]
    },
    {
      "cell_type": "markdown",
      "metadata": {
        "id": "525HtV40_AYZ"
      },
      "source": [
        "輸出一個神經元選擇:binary_crossentropy，多個神經元選擇categorical_crossentropy"
      ]
    },
    {
      "cell_type": "code",
      "metadata": {
        "id": "VHTTvnrtFtCD"
      },
      "source": [
        "# 確定模型\n",
        "model.compile(loss=\"categorical_crossentropy\", optimizer=\"adam\", metrics=[\"accuracy\"]) # 選擇adam優化器，metrics其他衡量標準"
      ],
      "execution_count": null,
      "outputs": []
    },
    {
      "cell_type": "code",
      "metadata": {
        "colab": {
          "base_uri": "https://localhost:8080/"
        },
        "id": "lVh_5BtHh8SB",
        "outputId": "aecb6d95-9023-4e8c-e368-5e18545d11a2"
      },
      "source": [
        "# 訓練模型\n",
        "model.fit(x_train_shape, \n",
        "        y_train_cat, \n",
        "        batch_size=200, \n",
        "        epochs=15, \n",
        "        validation_split=0.1,\n",
        "        verbose=2) # 看100~200筆資料做一次梯度下降，完整訓練10次找到平滑的地方最棒，把10%當作考試材料"
      ],
      "execution_count": null,
      "outputs": [
        {
          "output_type": "stream",
          "text": [
            "Epoch 1/15\n",
            "270/270 - 2s - loss: 0.0220 - accuracy: 0.9945 - val_loss: 0.0737 - val_accuracy: 0.9797\n",
            "Epoch 2/15\n",
            "270/270 - 1s - loss: 0.0186 - accuracy: 0.9956 - val_loss: 0.0731 - val_accuracy: 0.9805\n",
            "Epoch 3/15\n",
            "270/270 - 1s - loss: 0.0153 - accuracy: 0.9972 - val_loss: 0.0728 - val_accuracy: 0.9807\n",
            "Epoch 4/15\n",
            "270/270 - 1s - loss: 0.0126 - accuracy: 0.9979 - val_loss: 0.0717 - val_accuracy: 0.9808\n",
            "Epoch 5/15\n",
            "270/270 - 1s - loss: 0.0105 - accuracy: 0.9984 - val_loss: 0.0785 - val_accuracy: 0.9807\n",
            "Epoch 6/15\n",
            "270/270 - 1s - loss: 0.0093 - accuracy: 0.9988 - val_loss: 0.0716 - val_accuracy: 0.9813\n",
            "Epoch 7/15\n",
            "270/270 - 1s - loss: 0.0077 - accuracy: 0.9989 - val_loss: 0.0811 - val_accuracy: 0.9790\n",
            "Epoch 8/15\n",
            "270/270 - 1s - loss: 0.0071 - accuracy: 0.9989 - val_loss: 0.0804 - val_accuracy: 0.9790\n",
            "Epoch 9/15\n",
            "270/270 - 1s - loss: 0.0059 - accuracy: 0.9992 - val_loss: 0.0750 - val_accuracy: 0.9828\n",
            "Epoch 10/15\n",
            "270/270 - 1s - loss: 0.0047 - accuracy: 0.9997 - val_loss: 0.0814 - val_accuracy: 0.9815\n",
            "Epoch 11/15\n",
            "270/270 - 1s - loss: 0.0039 - accuracy: 0.9998 - val_loss: 0.0825 - val_accuracy: 0.9813\n",
            "Epoch 12/15\n",
            "270/270 - 1s - loss: 0.0039 - accuracy: 0.9997 - val_loss: 0.0802 - val_accuracy: 0.9820\n",
            "Epoch 13/15\n",
            "270/270 - 1s - loss: 0.0032 - accuracy: 0.9999 - val_loss: 0.0847 - val_accuracy: 0.9808\n",
            "Epoch 14/15\n",
            "270/270 - 1s - loss: 0.0027 - accuracy: 0.9999 - val_loss: 0.0792 - val_accuracy: 0.9833\n",
            "Epoch 15/15\n",
            "270/270 - 1s - loss: 0.0021 - accuracy: 1.0000 - val_loss: 0.0819 - val_accuracy: 0.9818\n"
          ],
          "name": "stdout"
        },
        {
          "output_type": "execute_result",
          "data": {
            "text/plain": [
              "<tensorflow.python.keras.callbacks.History at 0x7f9c22b83390>"
            ]
          },
          "metadata": {
            "tags": []
          },
          "execution_count": 54
        }
      ]
    },
    {
      "cell_type": "code",
      "metadata": {
        "colab": {
          "base_uri": "https://localhost:8080/"
        },
        "id": "LgPeHQuYwYRe",
        "outputId": "14b7b79d-3af2-4af7-f442-13c979bbf5bc"
      },
      "source": [
        "# 驗證模型\n",
        "model.evaluate(x_test_shape, y_test_cat)"
      ],
      "execution_count": null,
      "outputs": [
        {
          "output_type": "stream",
          "text": [
            "313/313 [==============================] - 1s 2ms/step - loss: 0.0712 - accuracy: 0.9787\n"
          ],
          "name": "stdout"
        },
        {
          "output_type": "execute_result",
          "data": {
            "text/plain": [
              "[0.07117634266614914, 0.9786999821662903]"
            ]
          },
          "metadata": {
            "tags": []
          },
          "execution_count": 27
        }
      ]
    },
    {
      "cell_type": "code",
      "metadata": {
        "colab": {
          "base_uri": "https://localhost:8080/"
        },
        "id": "3W-FvdomzUjp",
        "outputId": "8922fdd9-1e5f-4dee-8401-b21c73f4df4d"
      },
      "source": [
        "print(\"預測機率:\", model.predict(x_test_shape))\n",
        "print(\"預測答案:\", model.predict_classes(x_test_shape))"
      ],
      "execution_count": null,
      "outputs": [
        {
          "output_type": "stream",
          "text": [
            "預測機率: [[8.56617021e-07 1.22320376e-09 1.00272482e-05 ... 9.99417424e-01\n",
            "  4.06598815e-07 2.91119954e-06]\n",
            " [1.02201781e-07 3.23303611e-05 9.99916553e-01 ... 2.27972717e-14\n",
            "  1.21812081e-05 2.21219909e-09]\n",
            " [2.37705376e-06 9.95608509e-01 6.89867709e-04 ... 1.54387369e-03\n",
            "  1.60586019e-03 2.11697661e-05]\n",
            " ...\n",
            " [3.11905368e-13 2.11268448e-13 5.91627916e-14 ... 1.24665050e-07\n",
            "  8.11388929e-08 4.48829269e-06]\n",
            " [2.99933273e-10 7.71891440e-10 3.90758302e-12 ... 1.03637564e-10\n",
            "  1.28388683e-05 3.52426510e-09]\n",
            " [1.43261025e-09 2.88559622e-13 9.42725786e-10 ... 1.56955819e-15\n",
            "  5.26029609e-10 4.39714151e-12]]\n"
          ],
          "name": "stdout"
        },
        {
          "output_type": "stream",
          "text": [
            "/usr/local/lib/python3.6/dist-packages/tensorflow/python/keras/engine/sequential.py:450: UserWarning: `model.predict_classes()` is deprecated and will be removed after 2021-01-01. Please use instead:* `np.argmax(model.predict(x), axis=-1)`,   if your model does multi-class classification   (e.g. if it uses a `softmax` last-layer activation).* `(model.predict(x) > 0.5).astype(\"int32\")`,   if your model does binary classification   (e.g. if it uses a `sigmoid` last-layer activation).\n",
            "  warnings.warn('`model.predict_classes()` is deprecated and '\n"
          ],
          "name": "stderr"
        },
        {
          "output_type": "stream",
          "text": [
            "預測答案: [7 2 1 ... 4 5 6]\n"
          ],
          "name": "stdout"
        }
      ]
    },
    {
      "cell_type": "code",
      "metadata": {
        "colab": {
          "base_uri": "https://localhost:8080/",
          "height": 410
        },
        "id": "A2ojC0jL51aN",
        "outputId": "d33af440-aa96-4976-b514-49e7a08eb553"
      },
      "source": [
        "from sklearn.metrics import confusion_matrix # 混淆矩陣\n",
        "import pandas as pd\n",
        "pre = model.predict_classes(x_test_shape)\n",
        "pd.DataFrame(confusion_matrix(y_test, pre)) # 比對預測答案及真正答案"
      ],
      "execution_count": null,
      "outputs": [
        {
          "output_type": "stream",
          "text": [
            "/usr/local/lib/python3.6/dist-packages/tensorflow/python/keras/engine/sequential.py:450: UserWarning: `model.predict_classes()` is deprecated and will be removed after 2021-01-01. Please use instead:* `np.argmax(model.predict(x), axis=-1)`,   if your model does multi-class classification   (e.g. if it uses a `softmax` last-layer activation).* `(model.predict(x) > 0.5).astype(\"int32\")`,   if your model does binary classification   (e.g. if it uses a `sigmoid` last-layer activation).\n",
            "  warnings.warn('`model.predict_classes()` is deprecated and '\n"
          ],
          "name": "stderr"
        },
        {
          "output_type": "execute_result",
          "data": {
            "text/html": [
              "<div>\n",
              "<style scoped>\n",
              "    .dataframe tbody tr th:only-of-type {\n",
              "        vertical-align: middle;\n",
              "    }\n",
              "\n",
              "    .dataframe tbody tr th {\n",
              "        vertical-align: top;\n",
              "    }\n",
              "\n",
              "    .dataframe thead th {\n",
              "        text-align: right;\n",
              "    }\n",
              "</style>\n",
              "<table border=\"1\" class=\"dataframe\">\n",
              "  <thead>\n",
              "    <tr style=\"text-align: right;\">\n",
              "      <th></th>\n",
              "      <th>0</th>\n",
              "      <th>1</th>\n",
              "      <th>2</th>\n",
              "      <th>3</th>\n",
              "      <th>4</th>\n",
              "      <th>5</th>\n",
              "      <th>6</th>\n",
              "      <th>7</th>\n",
              "      <th>8</th>\n",
              "      <th>9</th>\n",
              "    </tr>\n",
              "  </thead>\n",
              "  <tbody>\n",
              "    <tr>\n",
              "      <th>0</th>\n",
              "      <td>968</td>\n",
              "      <td>1</td>\n",
              "      <td>1</td>\n",
              "      <td>0</td>\n",
              "      <td>1</td>\n",
              "      <td>1</td>\n",
              "      <td>3</td>\n",
              "      <td>2</td>\n",
              "      <td>1</td>\n",
              "      <td>2</td>\n",
              "    </tr>\n",
              "    <tr>\n",
              "      <th>1</th>\n",
              "      <td>0</td>\n",
              "      <td>1122</td>\n",
              "      <td>3</td>\n",
              "      <td>2</td>\n",
              "      <td>0</td>\n",
              "      <td>1</td>\n",
              "      <td>3</td>\n",
              "      <td>1</td>\n",
              "      <td>3</td>\n",
              "      <td>0</td>\n",
              "    </tr>\n",
              "    <tr>\n",
              "      <th>2</th>\n",
              "      <td>3</td>\n",
              "      <td>0</td>\n",
              "      <td>1009</td>\n",
              "      <td>3</td>\n",
              "      <td>3</td>\n",
              "      <td>0</td>\n",
              "      <td>4</td>\n",
              "      <td>3</td>\n",
              "      <td>7</td>\n",
              "      <td>0</td>\n",
              "    </tr>\n",
              "    <tr>\n",
              "      <th>3</th>\n",
              "      <td>0</td>\n",
              "      <td>0</td>\n",
              "      <td>3</td>\n",
              "      <td>995</td>\n",
              "      <td>0</td>\n",
              "      <td>3</td>\n",
              "      <td>0</td>\n",
              "      <td>2</td>\n",
              "      <td>4</td>\n",
              "      <td>3</td>\n",
              "    </tr>\n",
              "    <tr>\n",
              "      <th>4</th>\n",
              "      <td>0</td>\n",
              "      <td>0</td>\n",
              "      <td>1</td>\n",
              "      <td>1</td>\n",
              "      <td>962</td>\n",
              "      <td>0</td>\n",
              "      <td>4</td>\n",
              "      <td>2</td>\n",
              "      <td>1</td>\n",
              "      <td>11</td>\n",
              "    </tr>\n",
              "    <tr>\n",
              "      <th>5</th>\n",
              "      <td>2</td>\n",
              "      <td>1</td>\n",
              "      <td>0</td>\n",
              "      <td>12</td>\n",
              "      <td>2</td>\n",
              "      <td>863</td>\n",
              "      <td>5</td>\n",
              "      <td>1</td>\n",
              "      <td>4</td>\n",
              "      <td>2</td>\n",
              "    </tr>\n",
              "    <tr>\n",
              "      <th>6</th>\n",
              "      <td>4</td>\n",
              "      <td>2</td>\n",
              "      <td>3</td>\n",
              "      <td>0</td>\n",
              "      <td>4</td>\n",
              "      <td>2</td>\n",
              "      <td>942</td>\n",
              "      <td>0</td>\n",
              "      <td>1</td>\n",
              "      <td>0</td>\n",
              "    </tr>\n",
              "    <tr>\n",
              "      <th>7</th>\n",
              "      <td>0</td>\n",
              "      <td>4</td>\n",
              "      <td>8</td>\n",
              "      <td>6</td>\n",
              "      <td>2</td>\n",
              "      <td>0</td>\n",
              "      <td>0</td>\n",
              "      <td>999</td>\n",
              "      <td>1</td>\n",
              "      <td>8</td>\n",
              "    </tr>\n",
              "    <tr>\n",
              "      <th>8</th>\n",
              "      <td>4</td>\n",
              "      <td>0</td>\n",
              "      <td>3</td>\n",
              "      <td>7</td>\n",
              "      <td>5</td>\n",
              "      <td>2</td>\n",
              "      <td>2</td>\n",
              "      <td>4</td>\n",
              "      <td>942</td>\n",
              "      <td>5</td>\n",
              "    </tr>\n",
              "    <tr>\n",
              "      <th>9</th>\n",
              "      <td>2</td>\n",
              "      <td>2</td>\n",
              "      <td>0</td>\n",
              "      <td>5</td>\n",
              "      <td>8</td>\n",
              "      <td>2</td>\n",
              "      <td>0</td>\n",
              "      <td>4</td>\n",
              "      <td>1</td>\n",
              "      <td>985</td>\n",
              "    </tr>\n",
              "  </tbody>\n",
              "</table>\n",
              "</div>"
            ],
            "text/plain": [
              "     0     1     2    3    4    5    6    7    8    9\n",
              "0  968     1     1    0    1    1    3    2    1    2\n",
              "1    0  1122     3    2    0    1    3    1    3    0\n",
              "2    3     0  1009    3    3    0    4    3    7    0\n",
              "3    0     0     3  995    0    3    0    2    4    3\n",
              "4    0     0     1    1  962    0    4    2    1   11\n",
              "5    2     1     0   12    2  863    5    1    4    2\n",
              "6    4     2     3    0    4    2  942    0    1    0\n",
              "7    0     4     8    6    2    0    0  999    1    8\n",
              "8    4     0     3    7    5    2    2    4  942    5\n",
              "9    2     2     0    5    8    2    0    4    1  985"
            ]
          },
          "metadata": {
            "tags": []
          },
          "execution_count": 50
        }
      ]
    },
    {
      "cell_type": "code",
      "metadata": {
        "id": "KO9TzXnT6SI0"
      },
      "source": [
        "import numpy as np\n",
        "false_index = np.nonzero(pre != y_test)[0] # 找出判斷錯誤位置\n",
        "print(\"到底有幾個錯誤:\", len(false_index))\n",
        "false_img = x_test[false_index]\n",
        "ori_label = y_test[false_index]\n",
        "pre_label = pre[false_index]\n",
        "\n",
        "width = 10\n",
        "height = int(len(false_index) / 10) + 1\n",
        "plt.figure(figsize=(14, 40)) # 寬14英寸，高40\n",
        "# 查看哪些錯了，o:答案，p:預測失敗\n",
        "for (index, img) in enumerate(false_img):\n",
        "  plt.subplot(height, width, index+1)\n",
        "  msg = \"[o]:\" + str(ori_label[index]) + \"[p]:\" + str(pre_label[index])\n",
        "  plt.title(msg)\n",
        "  plt.axis(\"off\") # 不顯示軸線\n",
        "  plt.imshow(img, cmap=\"gray\")"
      ],
      "execution_count": null,
      "outputs": []
    },
    {
      "cell_type": "code",
      "metadata": {
        "id": "OhYevqIoW8PZ"
      },
      "source": [
        "# 儲存模型\n",
        "model.save(\"mlp_mnist.h5\")"
      ],
      "execution_count": null,
      "outputs": []
    },
    {
      "cell_type": "code",
      "metadata": {
        "id": "Kw34gPm_aopq"
      },
      "source": [
        "# 讀取模型\n",
        "from keras.models import load_model\n",
        "loaded = load_model(\"mlp_mnist.h5\")"
      ],
      "execution_count": null,
      "outputs": []
    },
    {
      "cell_type": "code",
      "metadata": {
        "colab": {
          "base_uri": "https://localhost:8080/"
        },
        "id": "YnHEzhDvbLAp",
        "outputId": "6c348bc1-8962-46f7-a63e-6f06fb02739c"
      },
      "source": [
        "loaded.evaluate(x_test_shape, y_test_cat) # 返回的是损失值和你选定的指标值（例如，精度accuracy）"
      ],
      "execution_count": null,
      "outputs": [
        {
          "output_type": "stream",
          "text": [
            "313/313 [==============================] - 0s 1ms/step - loss: 0.0712 - accuracy: 0.9787\n"
          ],
          "name": "stdout"
        },
        {
          "output_type": "execute_result",
          "data": {
            "text/plain": [
              "[0.07117634266614914, 0.9786999821662903]"
            ]
          },
          "metadata": {
            "tags": []
          },
          "execution_count": 52
        }
      ]
    }
  ]
}